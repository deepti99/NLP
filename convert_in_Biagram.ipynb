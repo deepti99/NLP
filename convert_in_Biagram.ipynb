{
  "nbformat": 4,
  "nbformat_minor": 0,
  "metadata": {
    "colab": {
      "provenance": [],
      "authorship_tag": "ABX9TyOMEpzWpr/8T29Gn4Rai9KH",
      "include_colab_link": true
    },
    "kernelspec": {
      "name": "python3",
      "display_name": "Python 3"
    },
    "language_info": {
      "name": "python"
    }
  },
  "cells": [
    {
      "cell_type": "markdown",
      "metadata": {
        "id": "view-in-github",
        "colab_type": "text"
      },
      "source": [
        "<a href=\"https://colab.research.google.com/github/deepti99/NLP/blob/main/convert_in_Biagram.ipynb\" target=\"_parent\"><img src=\"https://colab.research.google.com/assets/colab-badge.svg\" alt=\"Open In Colab\"/></a>"
      ]
    },
    {
      "cell_type": "code",
      "execution_count": 2,
      "metadata": {
        "colab": {
          "base_uri": "https://localhost:8080/"
        },
        "id": "Y_aR1qUKKETI",
        "outputId": "723f83ae-c661-4ab9-bf7a-aafa98edaf3c"
      },
      "outputs": [
        {
          "output_type": "stream",
          "name": "stdout",
          "text": [
            "The original list is : ['Flowers have long been appreciated by humans for their beauty and pleasant scents.', 'They hold cultural significance as religious, ritual, or symbolic objects, or sources of medicine and food.']\n",
            "The formed bigrams are : [('Flowers', 'have'), ('have', 'long'), ('long', 'been'), ('been', 'appreciated'), ('appreciated', 'by'), ('by', 'humans'), ('humans', 'for'), ('for', 'their'), ('their', 'beauty'), ('beauty', 'and'), ('and', 'pleasant'), ('pleasant', 'scents.'), ('They', 'hold'), ('hold', 'cultural'), ('cultural', 'significance'), ('significance', 'as'), ('as', 'religious,'), ('religious,', 'ritual,'), ('ritual,', 'or'), ('or', 'symbolic'), ('symbolic', 'objects,'), ('objects,', 'or'), ('or', 'sources'), ('sources', 'of'), ('of', 'medicine'), ('medicine', 'and'), ('and', 'food.')]\n"
          ]
        }
      ],
      "source": [
        "# Python3 code to demonstrate\n",
        "# Bigram formation\n",
        "# using list comprehension + enumerate() + split()\n",
        "\n",
        "# initializing list\n",
        "test_list = ['Flowers have long been appreciated by humans for their beauty and pleasant scents.',\n",
        "             'They hold cultural significance as religious, ritual, or symbolic objects, or sources of medicine and food.']\n",
        "\n",
        "# printing the original list\n",
        "print (\"The original list is : \" + str(test_list))\n",
        "\n",
        "# using list comprehension + enumerate() + split()\n",
        "# for Bigram formation\n",
        "res = [(x, i.split()[j + 1]) for i in test_list\n",
        "\tfor j, x in enumerate(i.split()) if j < len(i.split()) - 1]\n",
        "\n",
        "# printing result\n",
        "print (\"The formed bigrams are : \" + str(res))\n"
      ]
    }
  ]
}