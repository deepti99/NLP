{
  "nbformat": 4,
  "nbformat_minor": 0,
  "metadata": {
    "colab": {
      "provenance": [],
      "authorship_tag": "ABX9TyOLY7P9GssU9MRLQSKD8Nwt",
      "include_colab_link": true
    },
    "kernelspec": {
      "name": "python3",
      "display_name": "Python 3"
    },
    "language_info": {
      "name": "python"
    }
  },
  "cells": [
    {
      "cell_type": "markdown",
      "metadata": {
        "id": "view-in-github",
        "colab_type": "text"
      },
      "source": [
        "<a href=\"https://colab.research.google.com/github/deepti99/NLP/blob/main/Porter_Stemmer.ipynb\" target=\"_parent\"><img src=\"https://colab.research.google.com/assets/colab-badge.svg\" alt=\"Open In Colab\"/></a>"
      ]
    },
    {
      "cell_type": "code",
      "execution_count": null,
      "metadata": {
        "id": "HG3j8KBaE4Dz"
      },
      "outputs": [],
      "source": [
        "from nltk.stem import *"
      ]
    },
    {
      "cell_type": "code",
      "source": [
        "from nltk.stem.porter import *"
      ],
      "metadata": {
        "id": "i1aEcj5LE_MH"
      },
      "execution_count": null,
      "outputs": []
    },
    {
      "cell_type": "code",
      "source": [
        "stemmer = PorterStemmer()"
      ],
      "metadata": {
        "id": "Ww-t5GSyFJiP"
      },
      "execution_count": null,
      "outputs": []
    },
    {
      "cell_type": "code",
      "source": [
        "plurals = ['caresses', 'flies', 'dies', 'mules', 'denied',\n",
        "...            'died', 'agreed', 'owned', 'humbled', 'sized',\n",
        "...            'meeting', 'stating', 'siezing', 'itemization',\n",
        "...            'sensational', 'traditional', 'reference', 'colonizer',\n",
        "...            'plotted','singing','sung','motivational','aspirational','liked','education','educator','beautiful','beauties']"
      ],
      "metadata": {
        "id": "VjlHMx6sFMw0"
      },
      "execution_count": null,
      "outputs": []
    },
    {
      "cell_type": "code",
      "source": [
        "singles = [stemmer.stem(plural) for plural in plurals]"
      ],
      "metadata": {
        "id": "QzI0m477FRCz"
      },
      "execution_count": null,
      "outputs": []
    },
    {
      "cell_type": "code",
      "source": [
        "print(' '.join(singles))"
      ],
      "metadata": {
        "colab": {
          "base_uri": "https://localhost:8080/"
        },
        "id": "lPief5EPFZZe",
        "outputId": "713642f1-072d-45dd-9db4-a3f070f20f8a"
      },
      "execution_count": null,
      "outputs": [
        {
          "output_type": "stream",
          "name": "stdout",
          "text": [
            "caress fli die mule deni die agre own humbl size meet state siez item sensat tradit refer colon plot sing sung motiv aspir like educ educ beauti beauti\n"
          ]
        }
      ]
    }
  ]
}