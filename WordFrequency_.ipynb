{
  "nbformat": 4,
  "nbformat_minor": 0,
  "metadata": {
    "colab": {
      "provenance": [],
      "authorship_tag": "ABX9TyORe5GjVASFH5vbR3DYU+Pq",
      "include_colab_link": true
    },
    "kernelspec": {
      "name": "python3",
      "display_name": "Python 3"
    },
    "language_info": {
      "name": "python"
    }
  },
  "cells": [
    {
      "cell_type": "markdown",
      "metadata": {
        "id": "view-in-github",
        "colab_type": "text"
      },
      "source": [
        "<a href=\"https://colab.research.google.com/github/deepti99/NLP/blob/main/WordFrequency_.ipynb\" target=\"_parent\"><img src=\"https://colab.research.google.com/assets/colab-badge.svg\" alt=\"Open In Colab\"/></a>"
      ]
    },
    {
      "cell_type": "code",
      "execution_count": 2,
      "metadata": {
        "colab": {
          "base_uri": "https://localhost:8080/"
        },
        "id": "sYWUKCZy50Sl",
        "outputId": "207c2ad9-070d-4dbe-922c-9eb6ff7b1be4"
      },
      "outputs": [
        {
          "output_type": "stream",
          "name": "stdout",
          "text": [
            "[('Gus', 4), ('London', 3), ('Natural', 3), ('Language', 3), ('Processing', 3), ('Piano', 3), ('Python', 2), ('developer', 2), ('Fintech', 2), ('learning', 2)]\n"
          ]
        }
      ],
      "source": [
        "import spacy\n",
        ">>> from collections import Counter\n",
        ">>> nlp = spacy.load(\"en_core_web_sm\")\n",
        ">>> complete_text = (\n",
        "...     \"Gus Proto is a Python developer currently\"\n",
        "...     \" working for a London-based Fintech company. He is\"\n",
        "...     \" interested in learning Natural Language Processing.\"\n",
        "...     \" There is a developer conference happening on 21 July\"\n",
        "...     ' 2019 in London. It is titled \"Applications of Natural'\n",
        "...     ' Language Processing\". There is a helpline number'\n",
        "...     \" available at +44-1234567891. Gus is helping organize it.\"\n",
        "...     \" He keeps organizing local Python meetups and several\"\n",
        "...     \" internal talks at his workplace. Gus is also presenting\"\n",
        "...     ' a talk. The talk will introduce the reader about \"Use'\n",
        "...     ' cases of Natural Language Processing in Fintech\".'\n",
        "...     \" Apart from his work, he is very passionate about music.\"\n",
        "...     \" Gus is learning to play the Piano. He has enrolled\"\n",
        "...     \" himself in the weekend batch of Great Piano Academy.\"\n",
        "...     \" Great Piano Academy is situated in Mayfair or the City\"\n",
        "...     \" of London and has world-class piano instructors.\"\n",
        "... )\n",
        ">>> complete_doc = nlp(complete_text)\n",
        "\n",
        ">>> words = [\n",
        "...     token.text\n",
        "...     for token in complete_doc\n",
        "...     if not token.is_stop and not token.is_punct\n",
        "... ]\n",
        "\n",
        ">>> print(Counter(words).most_common(10))"
      ]
    },
    {
      "cell_type": "code",
      "source": [],
      "metadata": {
        "id": "HPLgYRfIO3BV"
      },
      "execution_count": null,
      "outputs": []
    }
  ]
}